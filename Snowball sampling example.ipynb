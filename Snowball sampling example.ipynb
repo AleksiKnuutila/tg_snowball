{
 "cells": [
  {
   "cell_type": "code",
   "execution_count": 2,
   "id": "92d581cb",
   "metadata": {},
   "outputs": [],
   "source": [
    "from snowball import snowball_sample\n",
    "\n",
    "import pandas as pd\n",
    "import networkx as nx"
   ]
  },
  {
   "cell_type": "markdown",
   "id": "05393a75",
   "metadata": {},
   "source": [
    "# Read edgelist"
   ]
  },
  {
   "cell_type": "code",
   "execution_count": 3,
   "id": "003549bf",
   "metadata": {},
   "outputs": [],
   "source": [
    "df=pd.read_csv('finnish_channels_edgelist.csv')"
   ]
  },
  {
   "cell_type": "code",
   "execution_count": 4,
   "id": "0cd8c0be",
   "metadata": {},
   "outputs": [
    {
     "data": {
      "text/html": [
       "<div>\n",
       "<style scoped>\n",
       "    .dataframe tbody tr th:only-of-type {\n",
       "        vertical-align: middle;\n",
       "    }\n",
       "\n",
       "    .dataframe tbody tr th {\n",
       "        vertical-align: top;\n",
       "    }\n",
       "\n",
       "    .dataframe thead th {\n",
       "        text-align: right;\n",
       "    }\n",
       "</style>\n",
       "<table border=\"1\" class=\"dataframe\">\n",
       "  <thead>\n",
       "    <tr style=\"text-align: right;\">\n",
       "      <th></th>\n",
       "      <th>date</th>\n",
       "      <th>post_id</th>\n",
       "      <th>source_channel_name</th>\n",
       "      <th>source_channel_id</th>\n",
       "      <th>source_channel_title</th>\n",
       "      <th>channel</th>\n",
       "    </tr>\n",
       "  </thead>\n",
       "  <tbody>\n",
       "    <tr>\n",
       "      <th>0</th>\n",
       "      <td>2023-09-26 07:25:42+00:00</td>\n",
       "      <td>146</td>\n",
       "      <td>suurkulkue</td>\n",
       "      <td>1.449109e+09</td>\n",
       "      <td>SUURKULKUE - pienin askelin</td>\n",
       "      <td>AkinLakiapu</td>\n",
       "    </tr>\n",
       "    <tr>\n",
       "      <th>1</th>\n",
       "      <td>2023-06-03 10:06:02+00:00</td>\n",
       "      <td>120</td>\n",
       "      <td>sananvap_perusoik_suomi</td>\n",
       "      <td>1.764878e+09</td>\n",
       "      <td>Sananvapaus ja perusoikeudet Suomi ry</td>\n",
       "      <td>AkinLakiapu</td>\n",
       "    </tr>\n",
       "    <tr>\n",
       "      <th>2</th>\n",
       "      <td>2023-09-26 07:25:42+00:00</td>\n",
       "      <td>146</td>\n",
       "      <td>suurkulkue</td>\n",
       "      <td>NaN</td>\n",
       "      <td>NaN</td>\n",
       "      <td>AkinLakiapu</td>\n",
       "    </tr>\n",
       "    <tr>\n",
       "      <th>3</th>\n",
       "      <td>2019-11-15 14:15:37+00:00</td>\n",
       "      <td>182</td>\n",
       "      <td>NaN</td>\n",
       "      <td>1.166470e+09</td>\n",
       "      <td>Congregation of Jesus Christ</td>\n",
       "      <td>DefendFinland</td>\n",
       "    </tr>\n",
       "    <tr>\n",
       "      <th>4</th>\n",
       "      <td>2021-11-07 17:54:32+00:00</td>\n",
       "      <td>4235</td>\n",
       "      <td>Uudenmaanakseli</td>\n",
       "      <td>1.429780e+09</td>\n",
       "      <td>Uudenmaan akseli</td>\n",
       "      <td>DefendFinland</td>\n",
       "    </tr>\n",
       "    <tr>\n",
       "      <th>...</th>\n",
       "      <td>...</td>\n",
       "      <td>...</td>\n",
       "      <td>...</td>\n",
       "      <td>...</td>\n",
       "      <td>...</td>\n",
       "      <td>...</td>\n",
       "    </tr>\n",
       "    <tr>\n",
       "      <th>443543</th>\n",
       "      <td>2023-10-25 04:47:51+00:00</td>\n",
       "      <td>25555</td>\n",
       "      <td>exposethe28</td>\n",
       "      <td>NaN</td>\n",
       "      <td>NaN</td>\n",
       "      <td>zombification_survivors</td>\n",
       "    </tr>\n",
       "    <tr>\n",
       "      <th>443544</th>\n",
       "      <td>2023-10-24 14:42:44+00:00</td>\n",
       "      <td>25522</td>\n",
       "      <td>roobsflyers</td>\n",
       "      <td>NaN</td>\n",
       "      <td>NaN</td>\n",
       "      <td>zombification_survivors</td>\n",
       "    </tr>\n",
       "    <tr>\n",
       "      <th>443545</th>\n",
       "      <td>2023-10-25 04:47:51+00:00</td>\n",
       "      <td>25555</td>\n",
       "      <td>roobsflyers</td>\n",
       "      <td>NaN</td>\n",
       "      <td>NaN</td>\n",
       "      <td>zombification_survivors</td>\n",
       "    </tr>\n",
       "    <tr>\n",
       "      <th>443546</th>\n",
       "      <td>2023-10-25 04:47:51+00:00</td>\n",
       "      <td>25555</td>\n",
       "      <td>mainbeachmedia</td>\n",
       "      <td>NaN</td>\n",
       "      <td>NaN</td>\n",
       "      <td>zombification_survivors</td>\n",
       "    </tr>\n",
       "    <tr>\n",
       "      <th>443547</th>\n",
       "      <td>2023-10-24 14:42:44+00:00</td>\n",
       "      <td>25522</td>\n",
       "      <td>mainbeachmedia</td>\n",
       "      <td>NaN</td>\n",
       "      <td>NaN</td>\n",
       "      <td>zombification_survivors</td>\n",
       "    </tr>\n",
       "  </tbody>\n",
       "</table>\n",
       "<p>443548 rows × 6 columns</p>\n",
       "</div>"
      ],
      "text/plain": [
       "                             date  post_id      source_channel_name   \n",
       "0       2023-09-26 07:25:42+00:00      146               suurkulkue  \\\n",
       "1       2023-06-03 10:06:02+00:00      120  sananvap_perusoik_suomi   \n",
       "2       2023-09-26 07:25:42+00:00      146               suurkulkue   \n",
       "3       2019-11-15 14:15:37+00:00      182                      NaN   \n",
       "4       2021-11-07 17:54:32+00:00     4235          Uudenmaanakseli   \n",
       "...                           ...      ...                      ...   \n",
       "443543  2023-10-25 04:47:51+00:00    25555              exposethe28   \n",
       "443544  2023-10-24 14:42:44+00:00    25522              roobsflyers   \n",
       "443545  2023-10-25 04:47:51+00:00    25555              roobsflyers   \n",
       "443546  2023-10-25 04:47:51+00:00    25555           mainbeachmedia   \n",
       "443547  2023-10-24 14:42:44+00:00    25522           mainbeachmedia   \n",
       "\n",
       "        source_channel_id                   source_channel_title   \n",
       "0            1.449109e+09            SUURKULKUE - pienin askelin  \\\n",
       "1            1.764878e+09  Sananvapaus ja perusoikeudet Suomi ry   \n",
       "2                     NaN                                    NaN   \n",
       "3            1.166470e+09           Congregation of Jesus Christ   \n",
       "4            1.429780e+09                       Uudenmaan akseli   \n",
       "...                   ...                                    ...   \n",
       "443543                NaN                                    NaN   \n",
       "443544                NaN                                    NaN   \n",
       "443545                NaN                                    NaN   \n",
       "443546                NaN                                    NaN   \n",
       "443547                NaN                                    NaN   \n",
       "\n",
       "                        channel  \n",
       "0                   AkinLakiapu  \n",
       "1                   AkinLakiapu  \n",
       "2                   AkinLakiapu  \n",
       "3                 DefendFinland  \n",
       "4                 DefendFinland  \n",
       "...                         ...  \n",
       "443543  zombification_survivors  \n",
       "443544  zombification_survivors  \n",
       "443545  zombification_survivors  \n",
       "443546  zombification_survivors  \n",
       "443547  zombification_survivors  \n",
       "\n",
       "[443548 rows x 6 columns]"
      ]
     },
     "execution_count": 4,
     "metadata": {},
     "output_type": "execute_result"
    }
   ],
   "source": [
    "df"
   ]
  },
  {
   "cell_type": "markdown",
   "id": "b74b2faa",
   "metadata": {},
   "source": [
    "# Create networkx object"
   ]
  },
  {
   "cell_type": "code",
   "execution_count": 5,
   "id": "0cbe7adb",
   "metadata": {},
   "outputs": [],
   "source": [
    "G = nx.from_pandas_edgelist(df, 'channel', 'source_channel_name', create_using=nx.DiGraph())"
   ]
  },
  {
   "cell_type": "code",
   "execution_count": 12,
   "id": "7dfcdffc",
   "metadata": {},
   "outputs": [
    {
     "data": {
      "text/plain": [
       "28"
      ]
     },
     "execution_count": 12,
     "metadata": {},
     "output_type": "execute_result"
    }
   ],
   "source": [
    "len(G.edges('valkohaalarit'))"
   ]
  },
  {
   "cell_type": "markdown",
   "id": "360feee4",
   "metadata": {},
   "source": [
    "# Snowball sample based on citation graph"
   ]
  },
  {
   "cell_type": "code",
   "execution_count": 7,
   "id": "95355994",
   "metadata": {},
   "outputs": [],
   "source": [
    "nodes=snowball_sample(graph=G, seedlist=['valkohaalarit'], depth=3)"
   ]
  },
  {
   "cell_type": "code",
   "execution_count": 9,
   "id": "8e1b641b",
   "metadata": {},
   "outputs": [
    {
     "data": {
      "text/plain": [
       "5075"
      ]
     },
     "execution_count": 9,
     "metadata": {},
     "output_type": "execute_result"
    }
   ],
   "source": [
    "len(nodes)"
   ]
  },
  {
   "cell_type": "code",
   "execution_count": 11,
   "id": "cf525b6c",
   "metadata": {},
   "outputs": [
    {
     "data": {
      "text/plain": [
       "['FreedomMedical',\n",
       " 'theAureusPress',\n",
       " 'qnewstv',\n",
       " 'davidsacks',\n",
       " 'finallyawakendmovies',\n",
       " 'cognitivecarbonpublic',\n",
       " 'deptofdefense',\n",
       " 'colonelcassad',\n",
       " 'theeconomist',\n",
       " 'ascensionworkstv']"
      ]
     },
     "execution_count": 11,
     "metadata": {},
     "output_type": "execute_result"
    }
   ],
   "source": [
    "list(nodes)[0:10]"
   ]
  }
 ],
 "metadata": {
  "kernelspec": {
   "display_name": "Default Env",
   "language": "python",
   "name": "default_env"
  },
  "language_info": {
   "codemirror_mode": {
    "name": "ipython",
    "version": 3
   },
   "file_extension": ".py",
   "mimetype": "text/x-python",
   "name": "python",
   "nbconvert_exporter": "python",
   "pygments_lexer": "ipython3",
   "version": "3.10.12"
  }
 },
 "nbformat": 4,
 "nbformat_minor": 5
}
